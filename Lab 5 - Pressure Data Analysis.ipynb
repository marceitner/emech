{
 "cells": [
  {
   "cell_type": "markdown",
   "metadata": {},
   "source": [
    "Author: Jonathan Markel"
   ]
  },
  {
   "cell_type": "markdown",
   "metadata": {},
   "source": [
    "Notes: \n",
    "- unsure if pressure transducer measurements are accurate \n",
    "- numbers are all too high, making me think there is a scaling error somewhere in the given values or in the experimental data\n"
   ]
  },
  {
   "cell_type": "markdown",
   "metadata": {},
   "source": [
    "# Part 1: Polycarbonate Cylinder"
   ]
  },
  {
   "cell_type": "code",
   "execution_count": 1,
   "metadata": {},
   "outputs": [],
   "source": [
    "import pandas as pd"
   ]
  },
  {
   "cell_type": "code",
   "execution_count": 2,
   "metadata": {},
   "outputs": [],
   "source": [
    "GF = 2.11 # gage factor +- 0.5%\n",
    "Vin = 3.3 #V"
   ]
  },
  {
   "cell_type": "code",
   "execution_count": 3,
   "metadata": {},
   "outputs": [],
   "source": [
    "# polycarbonate material properties\n",
    "E_p = 354000 # Youngs Modulus (psi)\n",
    "nu_p = 0.37 # Poissons ratio\n",
    "r_p = 2 # radius (inches)\n",
    "t_p = 0.125 # thickness (inches)"
   ]
  },
  {
   "cell_type": "code",
   "execution_count": 4,
   "metadata": {},
   "outputs": [
    {
     "data": {
      "text/html": [
       "<div>\n",
       "<style scoped>\n",
       "    .dataframe tbody tr th:only-of-type {\n",
       "        vertical-align: middle;\n",
       "    }\n",
       "\n",
       "    .dataframe tbody tr th {\n",
       "        vertical-align: top;\n",
       "    }\n",
       "\n",
       "    .dataframe thead th {\n",
       "        text-align: right;\n",
       "    }\n",
       "</style>\n",
       "<table border=\"1\" class=\"dataframe\">\n",
       "  <thead>\n",
       "    <tr style=\"text-align: right;\">\n",
       "      <th></th>\n",
       "      <th>bourdon</th>\n",
       "      <th>bridge</th>\n",
       "      <th>transducer</th>\n",
       "    </tr>\n",
       "  </thead>\n",
       "  <tbody>\n",
       "    <tr>\n",
       "      <th>0</th>\n",
       "      <td>0.0</td>\n",
       "      <td>-8.89936</td>\n",
       "      <td>5.26127</td>\n",
       "    </tr>\n",
       "    <tr>\n",
       "      <th>1</th>\n",
       "      <td>5.0</td>\n",
       "      <td>-8.70373</td>\n",
       "      <td>5.27603</td>\n",
       "    </tr>\n",
       "    <tr>\n",
       "      <th>2</th>\n",
       "      <td>10.5</td>\n",
       "      <td>-8.52612</td>\n",
       "      <td>5.27932</td>\n",
       "    </tr>\n",
       "    <tr>\n",
       "      <th>3</th>\n",
       "      <td>15.0</td>\n",
       "      <td>-8.37288</td>\n",
       "      <td>5.28271</td>\n",
       "    </tr>\n",
       "    <tr>\n",
       "      <th>4</th>\n",
       "      <td>20.5</td>\n",
       "      <td>-8.21049</td>\n",
       "      <td>5.28546</td>\n",
       "    </tr>\n",
       "    <tr>\n",
       "      <th>5</th>\n",
       "      <td>25.1</td>\n",
       "      <td>-8.07250</td>\n",
       "      <td>5.28793</td>\n",
       "    </tr>\n",
       "    <tr>\n",
       "      <th>6</th>\n",
       "      <td>30.0</td>\n",
       "      <td>-7.90872</td>\n",
       "      <td>5.29109</td>\n",
       "    </tr>\n",
       "    <tr>\n",
       "      <th>7</th>\n",
       "      <td>35.0</td>\n",
       "      <td>-7.73974</td>\n",
       "      <td>5.29397</td>\n",
       "    </tr>\n",
       "    <tr>\n",
       "      <th>8</th>\n",
       "      <td>40.5</td>\n",
       "      <td>-7.56643</td>\n",
       "      <td>5.29735</td>\n",
       "    </tr>\n",
       "    <tr>\n",
       "      <th>9</th>\n",
       "      <td>46.0</td>\n",
       "      <td>-7.39728</td>\n",
       "      <td>5.30021</td>\n",
       "    </tr>\n",
       "    <tr>\n",
       "      <th>10</th>\n",
       "      <td>50.0</td>\n",
       "      <td>-7.26715</td>\n",
       "      <td>5.30276</td>\n",
       "    </tr>\n",
       "  </tbody>\n",
       "</table>\n",
       "</div>"
      ],
      "text/plain": [
       "    bourdon   bridge  transducer\n",
       "0       0.0 -8.89936     5.26127\n",
       "1       5.0 -8.70373     5.27603\n",
       "2      10.5 -8.52612     5.27932\n",
       "3      15.0 -8.37288     5.28271\n",
       "4      20.5 -8.21049     5.28546\n",
       "5      25.1 -8.07250     5.28793\n",
       "6      30.0 -7.90872     5.29109\n",
       "7      35.0 -7.73974     5.29397\n",
       "8      40.5 -7.56643     5.29735\n",
       "9      46.0 -7.39728     5.30021\n",
       "10     50.0 -7.26715     5.30276"
      ]
     },
     "metadata": {},
     "output_type": "display_data"
    }
   ],
   "source": [
    "# Experimental data\n",
    "data1 = pd.read_excel('data.xlsx', sheet_name='oil_RAW')\n",
    "data1.columns = ['bourdon', 'bridge', 'transducer']\n",
    "display (data1)"
   ]
  },
  {
   "cell_type": "markdown",
   "metadata": {},
   "source": [
    "__Calculate pressure using hoop stress equation and compare with pressure transducer measurements.__\n",
    "\n",
    "Theoretical hoop stress equation ($\\epsilon_{h} = \\frac{Pr}{Et}$)"
   ]
  },
  {
   "cell_type": "code",
   "execution_count": 5,
   "metadata": {},
   "outputs": [
    {
     "data": {
      "text/plain": [
       "0     5.26127\n",
       "1     5.27603\n",
       "2     5.27932\n",
       "3     5.28271\n",
       "4     5.28546\n",
       "5     5.28793\n",
       "6     5.29109\n",
       "7     5.29397\n",
       "8     5.29735\n",
       "9     5.30021\n",
       "10    5.30276\n",
       "Name: transducer, dtype: float64"
      ]
     },
     "execution_count": 5,
     "metadata": {},
     "output_type": "execute_result"
    }
   ],
   "source": [
    "strain_hs = data1['transducer']# - data1['transducer'].min() \n",
    "# Is the transducer supposed to be normalized to 0?\n",
    "strain_hs"
   ]
  },
  {
   "cell_type": "code",
   "execution_count": 6,
   "metadata": {},
   "outputs": [
    {
     "data": {
      "text/plain": [
       "0     116405.59875\n",
       "1     116732.16375\n",
       "2     116804.95500\n",
       "3     116879.95875\n",
       "4     116940.80250\n",
       "5     116995.45125\n",
       "6     117065.36625\n",
       "7     117129.08625\n",
       "8     117203.86875\n",
       "9     117267.14625\n",
       "10    117323.56500\n",
       "Name: transducer, dtype: float64"
      ]
     },
     "execution_count": 6,
     "metadata": {},
     "output_type": "execute_result"
    }
   ],
   "source": [
    "P_hs = strain_hs * E_p * t_p / r_p\n",
    "P_hs\n",
    "# Unreasonable numbers"
   ]
  },
  {
   "cell_type": "code",
   "execution_count": 7,
   "metadata": {},
   "outputs": [
    {
     "data": {
      "text/plain": [
       "0     0.000000\n",
       "1     0.000226\n",
       "2     0.000475\n",
       "3     0.000678\n",
       "4     0.000927\n",
       "5     0.001134\n",
       "6     0.001356\n",
       "7     0.001582\n",
       "8     0.001831\n",
       "9     0.002079\n",
       "10    0.002260\n",
       "Name: bourdon, dtype: float64"
      ]
     },
     "execution_count": 7,
     "metadata": {},
     "output_type": "execute_result"
    }
   ],
   "source": [
    "p1 = data1['bourdon']\n",
    "strain_hs0 = p1 * r_p / (E_p * t_p)\n",
    "strain_hs0\n",
    "# does not match with normalized transducer"
   ]
  },
  {
   "cell_type": "markdown",
   "metadata": {},
   "source": [
    "Full bridge strain $ \\epsilon = \\frac{-2V_r}{G[(\\nu+1)-V_r(\\nu-1)]}$"
   ]
  },
  {
   "cell_type": "code",
   "execution_count": 8,
   "metadata": {},
   "outputs": [
    {
     "data": {
      "text/plain": [
       "0      -7.770300\n",
       "1      -8.572746\n",
       "2      -9.502707\n",
       "3     -10.526897\n",
       "4     -11.943449\n",
       "5     -13.550553\n",
       "6     -16.243816\n",
       "7     -20.663376\n",
       "8     -29.172037\n",
       "9     -50.339730\n",
       "10   -120.205112\n",
       "Name: bridge, dtype: float64"
      ]
     },
     "execution_count": 8,
     "metadata": {},
     "output_type": "execute_result"
    }
   ],
   "source": [
    "#Checking to see how bridge strain compares with measured strain\n",
    "Vout1 = data1['bridge']\n",
    "Vr1 = Vout1/Vin\n",
    "\n",
    "strain_b = (-2 * Vr1) / ( GF * ( (nu_p + 1) - Vr1 * (nu_p-1) ) )\n",
    "strain_b\n",
    "# No way these numbers are right"
   ]
  },
  {
   "cell_type": "markdown",
   "metadata": {},
   "source": [
    "# Part 2 - Aluminum Soda Can"
   ]
  },
  {
   "cell_type": "code",
   "execution_count": 9,
   "metadata": {},
   "outputs": [],
   "source": [
    "E_a = 1*10**7 # psi\n",
    "nu_a = 0.33\n",
    "r_a = 1.302 #inches\n",
    "t_a = 0.0035 # inches"
   ]
  },
  {
   "cell_type": "code",
   "execution_count": 10,
   "metadata": {},
   "outputs": [
    {
     "data": {
      "text/html": [
       "<div>\n",
       "<style scoped>\n",
       "    .dataframe tbody tr th:only-of-type {\n",
       "        vertical-align: middle;\n",
       "    }\n",
       "\n",
       "    .dataframe tbody tr th {\n",
       "        vertical-align: top;\n",
       "    }\n",
       "\n",
       "    .dataframe thead th {\n",
       "        text-align: right;\n",
       "    }\n",
       "</style>\n",
       "<table border=\"1\" class=\"dataframe\">\n",
       "  <thead>\n",
       "    <tr style=\"text-align: right;\">\n",
       "      <th></th>\n",
       "      <th>bridge</th>\n",
       "    </tr>\n",
       "    <tr>\n",
       "      <th>0</th>\n",
       "      <th></th>\n",
       "    </tr>\n",
       "  </thead>\n",
       "  <tbody>\n",
       "    <tr>\n",
       "      <th>before</th>\n",
       "      <td>0.071624</td>\n",
       "    </tr>\n",
       "    <tr>\n",
       "      <th>after</th>\n",
       "      <td>-0.533438</td>\n",
       "    </tr>\n",
       "  </tbody>\n",
       "</table>\n",
       "</div>"
      ],
      "text/plain": [
       "          bridge\n",
       "0               \n",
       "before  0.071624\n",
       "after  -0.533438"
      ]
     },
     "metadata": {},
     "output_type": "display_data"
    }
   ],
   "source": [
    "data2 = pd.read_excel('data.xlsx', sheet_name='soda', header=None, index_col=0)\n",
    "data2.columns = ['bridge']\n",
    "display(data2)"
   ]
  },
  {
   "cell_type": "markdown",
   "metadata": {},
   "source": [
    "__Calculate the resulting strain from opening the soda can. Then use this strain to calculate the pressure in the unopened can.__\n",
    "\n",
    "Quarter bridge strain $ \\epsilon = \\frac{-3 V_r}{G(1+2V_r} $, where $V_r = V_{out}/V_{in}$\n",
    "\n",
    "Hoop strain $\\epsilon = \\frac{Pr}{Et} (1-\\nu/2)$"
   ]
  },
  {
   "cell_type": "code",
   "execution_count": 11,
   "metadata": {},
   "outputs": [
    {
     "data": {
      "text/html": [
       "<div>\n",
       "<style scoped>\n",
       "    .dataframe tbody tr th:only-of-type {\n",
       "        vertical-align: middle;\n",
       "    }\n",
       "\n",
       "    .dataframe tbody tr th {\n",
       "        vertical-align: top;\n",
       "    }\n",
       "\n",
       "    .dataframe thead th {\n",
       "        text-align: right;\n",
       "    }\n",
       "</style>\n",
       "<table border=\"1\" class=\"dataframe\">\n",
       "  <thead>\n",
       "    <tr style=\"text-align: right;\">\n",
       "      <th></th>\n",
       "      <th>bridge</th>\n",
       "    </tr>\n",
       "    <tr>\n",
       "      <th>0</th>\n",
       "      <th></th>\n",
       "    </tr>\n",
       "  </thead>\n",
       "  <tbody>\n",
       "    <tr>\n",
       "      <th>before</th>\n",
       "      <td>0.000000</td>\n",
       "    </tr>\n",
       "    <tr>\n",
       "      <th>after</th>\n",
       "      <td>-0.605062</td>\n",
       "    </tr>\n",
       "  </tbody>\n",
       "</table>\n",
       "</div>"
      ],
      "text/plain": [
       "          bridge\n",
       "0               \n",
       "before  0.000000\n",
       "after  -0.605062"
      ]
     },
     "execution_count": 11,
     "metadata": {},
     "output_type": "execute_result"
    }
   ],
   "source": [
    "data2 = data2 - data2.values[0]\n",
    "data2"
   ]
  },
  {
   "cell_type": "code",
   "execution_count": 12,
   "metadata": {},
   "outputs": [
    {
     "data": {
      "text/plain": [
       "0.4116406665403648"
      ]
     },
     "execution_count": 12,
     "metadata": {},
     "output_type": "execute_result"
    }
   ],
   "source": [
    "# Calculating resulting strain after opening the can\n",
    "Vout_after = data2.loc['after'].values[0]\n",
    "Vr2 = Vout_after/Vin\n",
    "\n",
    "strain_after = (-3 * Vr2) / ( GF * (1 + 2 * Vr2)) # using 3 per Marc's message\n",
    "\n",
    "strain_after"
   ]
  },
  {
   "cell_type": "markdown",
   "metadata": {},
   "source": [
    "Pressure of a room temperature soda can should be around 50-60 psi."
   ]
  },
  {
   "cell_type": "code",
   "execution_count": 13,
   "metadata": {},
   "outputs": [
    {
     "data": {
      "text/plain": [
       "13252.226725270904"
      ]
     },
     "execution_count": 13,
     "metadata": {},
     "output_type": "execute_result"
    }
   ],
   "source": [
    "# Rearranging hoop strain for thin walled cylindrical can to solve for pressure\n",
    "p2 = (strain_after * E_a * t_a) / (r_a * (1 - nu_a / 2))\n",
    "\n",
    "p2 # in psi\n",
    "# 13000 psi is way too high"
   ]
  }
 ],
 "metadata": {
  "kernelspec": {
   "display_name": "Python 3",
   "language": "python",
   "name": "python3"
  },
  "language_info": {
   "codemirror_mode": {
    "name": "ipython",
    "version": 3
   },
   "file_extension": ".py",
   "mimetype": "text/x-python",
   "name": "python",
   "nbconvert_exporter": "python",
   "pygments_lexer": "ipython3",
   "version": "3.6.4"
  }
 },
 "nbformat": 4,
 "nbformat_minor": 2
}
